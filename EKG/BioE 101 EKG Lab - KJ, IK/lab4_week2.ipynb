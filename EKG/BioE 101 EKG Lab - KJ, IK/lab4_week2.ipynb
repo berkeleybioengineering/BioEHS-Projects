{
 "cells": [
  {
   "cell_type": "markdown",
   "metadata": {},
   "source": [
    "# BioE 101 Lab 4 - Build an EKG\n",
    "\n",
    "## Objectives:\n",
    "\n",
    "- Learn about cardiac signals and EKG measurement\n",
    "\n",
    "- Apply theory of interference, CMRR, noise, and instrumentation amplifiers\n",
    "\n",
    "- Build filters for signal conditioning\n",
    "\n",
    "- Gain practical experience with soldering and protoboards\n",
    "\n",
    "- Interface conditioned analog signals with digital logic in Arduino and Python\n",
    "\n",
    "**<span style=\"color:red\">NOTE: This lab involves the use of electrodes directly coupled to skin. Please STOP\n",
    "and CALL a TA if you are uncomfortable with using these electrodes, or if you feel\n",
    "tingling/dizziness from wearing them. ALWAYS ASK if you are uncertain of a circuit\n",
    "connection before hooking up power to yourself.</span>**\n",
    "\n",
    "## Schedule and Lab Reports\n",
    "-  **Week 1:** Prototype an EKG amplifier on a breadboard and test it on a live human\n",
    "subject. Entire pre-lab is due at the beginning of the lab.\n",
    "\n",
    "- **Week 2:** Read out your EKG data to the Arduino and get fancy for extra credit. The entire lab report is due the\n",
    "week following the lab — no lab report is due at the beginning of the second week."
   ]
  },
  {
   "cell_type": "markdown",
   "metadata": {},
   "source": [
    "## 5. Arduino/Python Heart Monitor\n",
    "- Retrieve your breakboard EKG circuit from last week, and hook up an Arduino Uno to a lab or personal computer via USB\n",
    "- Upload the send_serial.ino code onto the Arduino using the IDE, as in previous labs, and note the COM port\n",
    "- Following the same setup as last week, connect two 9V batteries to your circuit and three leads to an (alive) lab partner. The optimal setup is two signal electrodes above and below the chest, and one reference electrode on the right ankle.\n",
    "- Verify that your EKG is working by hooking up the output to an oscilloscope and observing the waveform\n",
    "- Now we will use the Arduino to digitize the EKG signal. Disconnect the leads from your lab partner, disconnect the oscilloscope probes, and connect the output of your amplifier to Arduino pin A0, and the ground of your circuit to the 3.3V pin of the Arduino board.\n",
    "**Before reconnecting the EKG leads, be sure that the your circuit GROUND is only connected to the 3.3V Arduino pin, and that any ground connection to an oscilloscope or power supply is disconnected (otherwise you risk damaging the Arduino).**\n",
    "- Reconnect the EKG leads to the electrodes and run the following code to acquire the EKG signal. Be sure to insert the correct COM port.\n"
   ]
  },
  {
   "cell_type": "code",
   "execution_count": 4,
   "metadata": {
    "collapsed": true
   },
   "outputs": [],
   "source": [
    "# allows plots to be plotted right below the cell when run\n",
    "%matplotlib inline \n",
    "import serial # the library for reading from serial com ports\n",
    "import numpy as np # naming convention for numpy library\n",
    "import matplotlib.pyplot as plt # naming convention for matplotlib\n",
    "from scipy.fftpack import fft, ifft # import discrete fourier transform and its inverse\n",
    "from scipy import signal"
   ]
  },
  {
   "cell_type": "code",
   "execution_count": 5,
   "metadata": {
    "collapsed": true
   },
   "outputs": [],
   "source": [
    "def sample_arduino():\n",
    "    # preamble to set up serial communications\n",
    "    device = \"/dev/cu.usbmodem1421\" # com port of Arduino <- CHANGE THIS TO THE ONE YOU FOUND\n",
    "    baud = 115200\n",
    "    ser = serial.Serial(device, baud, timeout=10)\n",
    "\n",
    "    # read in every line of serial code and throw away corrupt data\n",
    "    def read_serial_data(N):\n",
    "        raw_data = []\n",
    "        while (len(raw_data) < N+10): \n",
    "            data = ser.readline()\n",
    "            raw_data.append(data)\n",
    "        data = []\n",
    "        for i in raw_data:\n",
    "            try:\n",
    "                data.append(float(i))\n",
    "            except:\n",
    "                continue\n",
    "        return data\n",
    "    raw_data = read_serial_data(3000) # <- Adjust this line to read in more/less data\n",
    "    ser.close()\n",
    "    return raw_data"
   ]
  },
  {
   "cell_type": "code",
   "execution_count": 6,
   "metadata": {},
   "outputs": [
    {
     "ename": "AttributeError",
     "evalue": "module 'serial' has no attribute 'Serial'",
     "output_type": "error",
     "traceback": [
      "\u001b[0;31m---------------------------------------------------------------------------\u001b[0m",
      "\u001b[0;31mAttributeError\u001b[0m                            Traceback (most recent call last)",
      "\u001b[0;32m<ipython-input-6-10b2c95b2e65>\u001b[0m in \u001b[0;36m<module>\u001b[0;34m()\u001b[0m\n\u001b[0;32m----> 1\u001b[0;31m \u001b[0msignal\u001b[0m \u001b[0;34m=\u001b[0m \u001b[0msample_arduino\u001b[0m\u001b[0;34m(\u001b[0m\u001b[0;34m)\u001b[0m\u001b[0;34m\u001b[0m\u001b[0m\n\u001b[0m\u001b[1;32m      2\u001b[0m \u001b[0mplt\u001b[0m\u001b[0;34m.\u001b[0m\u001b[0mplot\u001b[0m\u001b[0;34m(\u001b[0m\u001b[0msignal\u001b[0m\u001b[0;34m)\u001b[0m \u001b[0;31m# change the indices to zoom in/out in time\u001b[0m\u001b[0;34m\u001b[0m\u001b[0m\n",
      "\u001b[0;32m<ipython-input-5-4d7033e117ba>\u001b[0m in \u001b[0;36msample_arduino\u001b[0;34m()\u001b[0m\n\u001b[1;32m      3\u001b[0m     \u001b[0mdevice\u001b[0m \u001b[0;34m=\u001b[0m \u001b[0;34m\"/dev/cu.usbmodem1421\"\u001b[0m \u001b[0;31m# com port of Arduino <- CHANGE THIS TO THE ONE YOU FOUND\u001b[0m\u001b[0;34m\u001b[0m\u001b[0m\n\u001b[1;32m      4\u001b[0m     \u001b[0mbaud\u001b[0m \u001b[0;34m=\u001b[0m \u001b[0;36m115200\u001b[0m\u001b[0;34m\u001b[0m\u001b[0m\n\u001b[0;32m----> 5\u001b[0;31m     \u001b[0mser\u001b[0m \u001b[0;34m=\u001b[0m \u001b[0mserial\u001b[0m\u001b[0;34m.\u001b[0m\u001b[0mSerial\u001b[0m\u001b[0;34m(\u001b[0m\u001b[0mdevice\u001b[0m\u001b[0;34m,\u001b[0m \u001b[0mbaud\u001b[0m\u001b[0;34m,\u001b[0m \u001b[0mtimeout\u001b[0m\u001b[0;34m=\u001b[0m\u001b[0;36m10\u001b[0m\u001b[0;34m)\u001b[0m\u001b[0;34m\u001b[0m\u001b[0m\n\u001b[0m\u001b[1;32m      6\u001b[0m \u001b[0;34m\u001b[0m\u001b[0m\n\u001b[1;32m      7\u001b[0m     \u001b[0;31m# read in every line of serial code and throw away corrupt data\u001b[0m\u001b[0;34m\u001b[0m\u001b[0;34m\u001b[0m\u001b[0m\n",
      "\u001b[0;31mAttributeError\u001b[0m: module 'serial' has no attribute 'Serial'"
     ]
    }
   ],
   "source": [
    "signal = sample_arduino()\n",
    "plt.plot(signal) # change the indices to zoom in/out in time"
   ]
  },
  {
   "cell_type": "markdown",
   "metadata": {},
   "source": [
    "**Question 9**: Why are we connecting the circuit ground to the 3.3V pin of the Arduino, as opposed to the GND pin? Hint: disconnect the EKG leads from your lab partner, connect circuit ground to the GND pin, and reconnect the leads. How does your EKG signal change?\n",
    "\n",
    "Now, run the code below in order to plot and analyze your EKG spectrum in fourier space:"
   ]
  },
  {
   "cell_type": "code",
   "execution_count": 33,
   "metadata": {},
   "outputs": [
    {
     "data": {
      "text/plain": [
       "[<matplotlib.lines.Line2D at 0x1097a2748>]"
      ]
     },
     "execution_count": 33,
     "metadata": {},
     "output_type": "execute_result"
    },
    {
     "data": {
      "image/png": "[encoded data removed]",
      "text/plain": [
       "<matplotlib.figure.Figure at 0x1097a2518>"
      ]
     },
     "metadata": {},
     "output_type": "display_data"
    }
   ],
   "source": [
    "dft = fft(signal) # calculate fourier transform\n",
    "fs = 1000 # SAMPLING RATE, needs to match send_serial.ino code\n",
    "N = len(dft) # length of discrete fourier transform\n",
    "freqs = [i*fs/N for i in range(N)] # convert from dft frequencies to Hz\n",
    "plt.plot(freqs[2:1000], np.abs(dft[2:1000])) # change the indices to zoom in/out in frequency"
   ]
  },
  {
   "cell_type": "markdown",
   "metadata": {},
   "source": [
    "**Question 10**: Save a plot of your EKG signal and its discrete fourier transform. Based on the bandwidth of your signal, what minimum sampling rate should you be using? Decrease the sampling rate within the send_serial.ino and dft code. At what point do you begin to see aliasing, and does this match your prediction?"
   ]
  },
  {
   "cell_type": "markdown",
   "metadata": {},
   "source": [
    "## 6. Extra Credit \n",
    "\n",
    "Choose any combination of the 3 extra credit options below. Maximum total extra credit is 20pt. \n",
    "\n",
    "- **Extra credit: Hardware component** \n",
    "\n",
    "-- Solder your entire EKG circuit onto a protoboard for more robust performance and decreased interference. Ask GSI's for soldering guidance and equipment (wires, headers, battery connectors, etc). Test your soldered circuit using an oscilloscope following directions from week 1. Once your circuit is approved by a GSI, record and save your EKG signal using the Arduino. What differences do you see in signal quality (noise, interference, motion artifacts) between your soldered circuit and the breadboard circuit? (+10 points) \n",
    "\n",
    "- ** Extra credit: Software component** \n",
    "\n",
    "Build a heart monitor application in python that has the following capabilitie(s):\n",
    "\n",
    "   -- Design and implement a software band-pass filter to reduce interference and motion artifacts in the EKG signal. Compare your EKG signal before and after filtering. Were you able to reduce interference and/or motion artifacts? Did the filtering affect the shape of your waveform? (+10 points)\n",
    "\n",
    "   -- Design and implement an algorithm to detect heart rate. Hint: some potential strategies include thresholding or autocorrelation. Measure and record the heart rate of a lab partner before and after doing 10-20 jumping jacks! (+10 points)\n",
    "\n",
    "\n",
    "**To claim your extra credit, include all code and output graphs in your final lab report. Also take a photo of your soldered heart monitor and include it in your final lab report. **"
   ]
  },
  {
   "cell_type": "code",
   "execution_count": 1,
   "metadata": {
    "collapsed": true
   },
   "outputs": [],
   "source": [
    "import peakutils\n",
    "# Must go into terminal and install peakutils by typing pip install peakutils onto your computer"
   ]
  },
  {
   "cell_type": "code",
   "execution_count": 2,
   "metadata": {
    "collapsed": true
   },
   "outputs": [],
   "source": [
    "def heart_rate_monitor(signal):\n",
    "    # Find R peaks (from QRS complex) within the data using a calibrated threshold (from experimental trial)\n",
    "    indices = peakutils.indexes(signal, thres=.25, min_dist=1) \n",
    "    diffs = [] # Initialize difference list\n",
    "    for x in range(len(indices) - 1):\n",
    "        diffs.append(indices[x+1]/1000 - indices[x]/1000) # Find the difference between the points on the x-axis (time)\n",
    "    avg = np.average(diffs) # Find the average of the distance between peaks\n",
    "    heart_rate = 60*avg # Multiply by 60 to get into units of beats/minute (was in bps)\n",
    "    print(\"Your heart rate is %d b/m\" % heart_rate) # Print result\n",
    "    return heart_rate"
   ]
  },
  {
   "cell_type": "code",
   "execution_count": 3,
   "metadata": {},
   "outputs": [
    {
     "ename": "NameError",
     "evalue": "name 'signal' is not defined",
     "output_type": "error",
     "traceback": [
      "\u001b[0;31m---------------------------------------------------------------------------\u001b[0m",
      "\u001b[0;31mNameError\u001b[0m                                 Traceback (most recent call last)",
      "\u001b[0;32m<ipython-input-3-a2cc28af3458>\u001b[0m in \u001b[0;36m<module>\u001b[0;34m()\u001b[0m\n\u001b[0;32m----> 1\u001b[0;31m \u001b[0mdata\u001b[0m \u001b[0;34m=\u001b[0m \u001b[0mheart_rate_monitor\u001b[0m\u001b[0;34m(\u001b[0m\u001b[0msignal\u001b[0m\u001b[0;34m)\u001b[0m\u001b[0;34m\u001b[0m\u001b[0m\n\u001b[0m",
      "\u001b[0;31mNameError\u001b[0m: name 'signal' is not defined"
     ]
    }
   ],
   "source": [
    "data = heart_rate_monitor(signal)"
   ]
  },
  {
   "cell_type": "code",
   "execution_count": null,
   "metadata": {
    "collapsed": true
   },
   "outputs": [],
   "source": []
  }
 ],
 "metadata": {
  "kernelspec": {
   "display_name": "Python 3",
   "language": "python",
   "name": "python3"
  },
  "language_info": {
   "codemirror_mode": {
    "name": "ipython",
    "version": 3
   },
   "file_extension": ".py",
   "mimetype": "text/x-python",
   "name": "python",
   "nbconvert_exporter": "python",
   "pygments_lexer": "ipython3",
   "version": "3.6.1"
  }
 },
 "nbformat": 4,
 "nbformat_minor": 1
}
